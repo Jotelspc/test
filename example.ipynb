{
 "cells": [
  {
   "cell_type": "code",
   "execution_count": 2,
   "id": "72904252-1bc3-419d-8b4e-f6d4015a14af",
   "metadata": {},
   "outputs": [],
   "source": [
    "import handcalcs.render\n",
    "from math import sqrt,pi, cos, sin, radians,asin,atan,degrees, tan, log10\n",
    "from PIL import Image"
   ]
  },
  {
   "cell_type": "markdown",
   "id": "b9d995f8-2446-4af6-a416-9bf085c9c2eb",
   "metadata": {},
   "source": [
    "# EXAMPLES"
   ]
  },
  {
   "cell_type": "markdown",
   "id": "23a4ac02-b638-4b82-8147-acab48361e6f",
   "metadata": {},
   "source": [
    "S=1\n",
    "N=1\n",
    "calculate S+N\n"
   ]
  },
  {
   "cell_type": "markdown",
   "id": "df83b222",
   "metadata": {},
   "source": [
    "```{dropdown} Hint\n",
    "xixixi\n",
    "```"
   ]
  },
  {
   "cell_type": "code",
   "execution_count": 3,
   "id": "ca9f284c-73cc-4cc0-8173-1aec4691d80d",
   "metadata": {
    "scrolled": true
   },
   "outputs": [
    {
     "data": {
      "text/latex": [
       "\\[\n",
       "\\begin{aligned}\n",
       "s &= 1 \\; \n",
       " &n &= 1 \\; \n",
       " &a &= 2 \\; \n",
       "\\\\[10pt]\n",
       "\\end{aligned}\n",
       "\\]"
      ],
      "text/plain": [
       "<IPython.core.display.Latex object>"
      ]
     },
     "metadata": {},
     "output_type": "display_data"
    }
   ],
   "source": [
    "%%render param 1\n",
    "\n",
    "s=1\n",
    "n=1\n",
    "a=s+n\n"
   ]
  }
 ],
 "metadata": {
  "kernelspec": {
   "display_name": "Python 3 (ipykernel)",
   "language": "python",
   "name": "python3"
  },
  "language_info": {
   "codemirror_mode": {
    "name": "ipython",
    "version": 3
   },
   "file_extension": ".py",
   "mimetype": "text/x-python",
   "name": "python",
   "nbconvert_exporter": "python",
   "pygments_lexer": "ipython3",
   "version": "3.11.5"
  }
 },
 "nbformat": 4,
 "nbformat_minor": 5
}
