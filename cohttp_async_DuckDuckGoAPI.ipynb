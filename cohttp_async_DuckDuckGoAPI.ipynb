{
 "cells": [
  {
   "cell_type": "markdown",
   "metadata": {},
   "source": [
    "# Get a description of a word from DuckDuckGo API\n",
    "\n",
    "[Cohttp](https://github.com/mirage/ocaml-cohttp) ia a lightweight HTTP client/server library. Its interface is simple and easy to use. This library is useful for web scraping and requesting to API servers. In this example, we obtain a description of a given word from the DuckDuckGo API."
   ]
  },
  {
   "cell_type": "code",
   "execution_count": 1,
   "metadata": {
    "scrolled": true
   },
   "outputs": [],
   "source": [
    "#thread ;;\n",
    "#require \"cohttp.async,ppx_deriving_yojson\" ;;"
   ]
  },
  {
   "cell_type": "code",
   "execution_count": 2,
   "metadata": {
    "collapsed": true
   },
   "outputs": [],
   "source": [
    "open Async ;;"
   ]
  },
  {
   "cell_type": "code",
   "execution_count": 3,
   "metadata": {},
   "outputs": [
    {
     "data": {
      "text/plain": [
       "type t = { definition : string; abstract : string; }\n",
       "val to_yojson : t -> Yojson.Safe.json = <fun>\n",
       "val of_yojson : Yojson.Safe.json -> t Ppx_deriving_yojson_runtime.error_or =\n",
       "  <fun>\n"
      ]
     },
     "execution_count": 3,
     "metadata": {},
     "output_type": "execute_result"
    }
   ],
   "source": [
    "type t = {\n",
    "    definition : string [@key \"Definition\"];\n",
    "    abstract : string [@key \"Abstract\"];\n",
    "  } [@@deriving yojson { strict = false }]"
   ]
  },
  {
   "cell_type": "code",
   "execution_count": 4,
   "metadata": {},
   "outputs": [
    {
     "data": {
      "text/plain": [
       "val get_description : string -> string option Async_kernel__Deferred.t =\n",
       "  <fun>\n"
      ]
     },
     "execution_count": 4,
     "metadata": {},
     "output_type": "execute_result"
    }
   ],
   "source": [
    "let get_description query =\n",
    "  let base_uri = Uri.of_string \"http://api.duckduckgo.com/?format=json\" in\n",
    "  let uri = Uri.add_query_param base_uri (\"q\", [query]) in\n",
    "  Cohttp_async.Client.get uri >>= fun (resp, body) -> (* GET contents from a given uri *)\n",
    "  assert (Cohttp.Response.status resp = `OK) ; (* Check HTTP response code *)\n",
    "  Cohttp_async.Body.to_string body >>| fun body -> (* Receive contents *)\n",
    "  Yojson.Safe.from_string body\n",
    "  |> [%of_yojson: t]\n",
    "  |> function\n",
    "  | Result.Ok { definition = \"\"; abstract = \"\"; } -> None\n",
    "  | Result.Ok { definition = \"\"; abstract; } -> Some abstract\n",
    "  | Result.Ok { definition; abstract = \"\"; } -> Some definition\n",
    "  | _ -> failwith \"Oops!\""
   ]
  },
  {
   "cell_type": "code",
   "execution_count": 5,
   "metadata": {
    "scrolled": true
   },
   "outputs": [
    {
     "data": {
      "text/plain": [
       "val query : string = \"OCaml\"\n"
      ]
     },
     "execution_count": 5,
     "metadata": {},
     "output_type": "execute_result"
    },
    {
     "data": {
      "text/plain": [
       "val descr : string option =\n",
       "  Some\n",
       "   \"OCaml, originally named Objective Caml, is the main implementation of the programming language Caml, created by Xavier Leroy, J\\195\\169r\\195\\180me Vouillon, Damien Doligez, Didier R\\195\\169my, Asc\\195\\161nder Su\\195\\161rez and others in 1996. A member of the ML language family, OCaml extends the core Caml language with object-oriented programming constructs.\"\n"
      ]
     },
     "execution_count": 5,
     "metadata": {},
     "output_type": "execute_result"
    }
   ],
   "source": [
    "let query = \"OCaml\" (* Search query *)\n",
    "\n",
    "let descr = Thread_safe.block_on_async_exn (fun () -> get_description query)"
   ]
  },
  {
   "cell_type": "code",
   "execution_count": null,
   "metadata": {
    "collapsed": true
   },
   "outputs": [],
   "source": []
  }
 ],
 "metadata": {
  "kernelspec": {
   "display_name": "OCaml 4.04.2",
   "language": "OCaml",
   "name": "ocaml-jupyter-4.04.2"
  },
  "language_info": {
   "codemirror_mode": "text/x-ocaml",
   "file_extension": ".ml",
   "mimetype": "text/x-ocaml",
   "name": "OCaml",
   "nbconverter_exporter": null,
   "pygments_lexer": "OCaml",
   "version": "4.04.2"
  }
 },
 "nbformat": 4,
 "nbformat_minor": 2
}
